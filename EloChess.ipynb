{
  "cells": [
    {
      "cell_type": "code",
      "execution_count": 8,
      "metadata": {
        "colab": {
          "base_uri": "https://localhost:8080/"
        },
        "id": "kMzrdpV5zoh-",
        "outputId": "c97c495f-bfcc-43df-da7a-d84fbae1f85f"
      },
      "outputs": [],
      "source": [
        "import tensorflow as tf\n",
        "import pandas as pd\n",
        "import chess.pgn\n",
        "import numpy as np\n",
        "from tqdm import tqdm"
      ]
    },
    {
      "cell_type": "code",
      "execution_count": 9,
      "metadata": {
        "id": "0kMgL1FMz1Wp"
      },
      "outputs": [],
      "source": [
        "# Load the PGN file\n",
        "pgn = open('data.pgn')"
      ]
    },
    {
      "cell_type": "code",
      "execution_count": 10,
      "metadata": {
        "id": "krKYct-E1tkf"
      },
      "outputs": [],
      "source": [
        "# Read the PGN file and extract the ELO ratings and moves for each game\n",
        "games = []\n",
        "num_games = sum(1 for _ in open(\"data.pgn\"))"
      ]
    },
    {
      "cell_type": "code",
      "execution_count": 11,
      "metadata": {
        "colab": {
          "base_uri": "https://localhost:8080/"
        },
        "id": "7_pvE3WJ3m8_",
        "outputId": "571b4b39-2928-4ff1-adab-9f09166de6df"
      },
      "outputs": [
        {
          "name": "stderr",
          "output_type": "stream",
          "text": [
            "  6%|▌         | 50000/859598 [02:44<44:28, 303.40it/s]  \n"
          ]
        }
      ],
      "source": [
        "for i in tqdm(range(num_games)):\n",
        "    game = chess.pgn.read_game(pgn)\n",
        "    if game is None:\n",
        "        break\n",
        "    games.append(game)"
      ]
    },
    {
      "cell_type": "code",
      "execution_count": 12,
      "metadata": {
        "id": "Clv-dhHn3uIF"
      },
      "outputs": [],
      "source": [
        "# Extract the features and labels\n",
        "X = []\n",
        "Y = []"
      ]
    },
    {
      "cell_type": "code",
      "execution_count": 13,
      "metadata": {
        "id": "xl8HWYAW3vUG"
      },
      "outputs": [
        {
          "name": "stderr",
          "output_type": "stream",
          "text": [
            "100%|██████████| 50000/50000 [05:52<00:00, 141.67it/s]\n"
          ]
        }
      ],
      "source": [
        "for game in tqdm(games):\n",
        "    board = game.board()\n",
        "    \n",
        "    if \"WhiteElo\" in game.headers:\n",
        "        elo_white = int(game.headers[\"WhiteElo\"])\n",
        "    else:\n",
        "        elo_white = 0\n",
        "    if \"BlackElo\" in game.headers:\n",
        "        elo_black = int(game.headers[\"BlackElo\"])\n",
        "    else:\n",
        "        elo_black = 0\n",
        "\n",
        "\n",
        "    for move in game.mainline_moves():\n",
        "        # Convert the board representation to a one-hot encoded format\n",
        "        fen = board.fen()\n",
        "        pieces = ['p', 'r', 'n', 'b', 'q', 'k', 'P', 'R', 'N', 'B', 'Q', 'K']\n",
        "        piece_to_int = dict(zip(pieces, range(12)))\n",
        "        one_hot = np.zeros((8, 8, 12), dtype=np.int8)\n",
        "        rows = fen.split()[0].split('/')\n",
        "        for i, row in enumerate(rows):\n",
        "            j = 0\n",
        "            for char in row:\n",
        "                if char.isdigit():\n",
        "                    j += int(char)\n",
        "                else:\n",
        "                    one_hot[i, j, piece_to_int[char]] = 1\n",
        "                    j += 1\n",
        "        X.append(one_hot)\n",
        "        Y.append([elo_white, elo_black])\n",
        "        board.push(move)"
      ]
    },
    {
      "cell_type": "code",
      "execution_count": 14,
      "metadata": {
        "id": "vPgDpOFq3wnc"
      },
      "outputs": [],
      "source": [
        "# Convert the features and labels to numpy arrays\n",
        "X = np.array(X)\n",
        "Y = np.array(Y)"
      ]
    },
    {
      "cell_type": "code",
      "execution_count": 15,
      "metadata": {
        "id": "mUTTuoGE3xfc"
      },
      "outputs": [],
      "source": [
        "# Split the dataset into training and testing sets\n",
        "split = int(len(X) * 0.8)\n",
        "X_train = X[:split]\n",
        "Y_train = Y[:split]\n",
        "X_test = X[split:]\n",
        "Y_test = Y[split:]\n"
      ]
    },
    {
      "cell_type": "code",
      "execution_count": 16,
      "metadata": {
        "id": "1JBUjU4Y3yjH"
      },
      "outputs": [],
      "source": [
        "# Normalize the feature matrix\n",
        "X_train = X_train / 768\n",
        "X_test = X_test / 768\n"
      ]
    },
    {
      "cell_type": "code",
      "execution_count": 17,
      "metadata": {
        "id": "AqTlc81Cz57I"
      },
      "outputs": [],
      "source": [
        "# Define the TensorFlow model\n",
        "model = tf.keras.models.Sequential([\n",
        "    tf.keras.layers.Flatten(input_shape=(8, 8, 12)),\n",
        "    tf.keras.layers.Dense(128, activation=\"relu\"),\n",
        "    tf.keras.layers.Dense(64, activation=\"relu\"),\n",
        "    tf.keras.layers.Dense(2)\n",
        "])"
      ]
    },
    {
      "cell_type": "code",
      "execution_count": 18,
      "metadata": {},
      "outputs": [],
      "source": [
        "def r_squared(y_true, y_pred):\n",
        "    SS_res =  tf.reduce_sum(tf.square(y_true - y_pred)) \n",
        "    SS_tot = tf.reduce_sum(tf.square(y_true - tf.reduce_mean(y_true))) \n",
        "    return 1 - SS_res/(SS_tot + tf.keras.backend.epsilon())\n",
        "\n",
        "model.compile(optimizer=\"adam\", loss=\"mse\", metrics=[r_squared])"
      ]
    },
    {
      "cell_type": "code",
      "execution_count": 19,
      "metadata": {
        "id": "KQveqfRpz8qk"
      },
      "outputs": [
        {
          "name": "stdout",
          "output_type": "stream",
          "text": [
            "Epoch 1/10\n",
            "82529/82529 [==============================] - 169s 2ms/step - loss: 945316.7500 - r_squared: -0.0569 - val_loss: 2945579.5000 - val_r_squared: -1885094163775488.0000\n",
            "Epoch 2/10\n",
            "82529/82529 [==============================] - 149s 2ms/step - loss: 930474.1875 - r_squared: -0.0379 - val_loss: 3071982.5000 - val_r_squared: -1965992691367936.0000\n",
            "Epoch 3/10\n",
            "82529/82529 [==============================] - 901s 11ms/step - loss: 929672.4375 - r_squared: -0.0368 - val_loss: 3038252.2500 - val_r_squared: -1944397998456832.0000\n",
            "Epoch 4/10\n",
            "82529/82529 [==============================] - 127s 2ms/step - loss: 929032.3125 - r_squared: -0.0363 - val_loss: 3072084.2500 - val_r_squared: -1966048525942784.0000\n",
            "Epoch 5/10\n",
            "82529/82529 [==============================] - 33887s 411ms/step - loss: 928524.0000 - r_squared: -0.0363 - val_loss: 3070165.7500 - val_r_squared: -1964827547271168.0000\n",
            "Epoch 6/10\n",
            "82529/82529 [==============================] - 130s 2ms/step - loss: 928207.6250 - r_squared: -0.0351 - val_loss: 3044666.7500 - val_r_squared: -1948502510796800.0000\n",
            "Epoch 7/10\n",
            "82529/82529 [==============================] - 131s 2ms/step - loss: 927981.0000 - r_squared: -0.0353 - val_loss: 3202677.7500 - val_r_squared: -2049637582110720.0000\n",
            "Epoch 8/10\n",
            "82529/82529 [==============================] - 136s 2ms/step - loss: 927866.6875 - r_squared: -0.0355 - val_loss: 3158444.7500 - val_r_squared: -2021324755042304.0000\n",
            "Epoch 9/10\n",
            "82529/82529 [==============================] - 140s 2ms/step - loss: 927758.2500 - r_squared: -0.0353 - val_loss: 3093029.2500 - val_r_squared: -1979459024453632.0000\n",
            "Epoch 10/10\n",
            "82529/82529 [==============================] - 138s 2ms/step - loss: 927667.1250 - r_squared: -0.0349 - val_loss: 3078126.7500 - val_r_squared: -1969929834201088.0000\n"
          ]
        },
        {
          "data": {
            "text/plain": [
              "<keras.callbacks.History at 0x1cf4aa297b0>"
            ]
          },
          "execution_count": 19,
          "metadata": {},
          "output_type": "execute_result"
        }
      ],
      "source": [
        "# Train the model on the training set\n",
        "model.fit(X_train, Y_train, epochs=10, validation_split=0.2)"
      ]
    },
    {
      "cell_type": "code",
      "execution_count": 20,
      "metadata": {
        "id": "J8IqdyDRz9uy"
      },
      "outputs": [
        {
          "name": "stdout",
          "output_type": "stream",
          "text": [
            "25791/25791 [==============================] - 20s 782us/step - loss: 3078451.5000 - r_squared: -1970142435082240.0000\n"
          ]
        },
        {
          "ename": "ValueError",
          "evalue": "not enough values to unpack (expected 3, got 2)",
          "output_type": "error",
          "traceback": [
            "\u001b[1;31m---------------------------------------------------------------------------\u001b[0m",
            "\u001b[1;31mValueError\u001b[0m                                Traceback (most recent call last)",
            "Cell \u001b[1;32mIn[20], line 2\u001b[0m\n\u001b[0;32m      1\u001b[0m \u001b[39m# Evaluate the model on the testing set\u001b[39;00m\n\u001b[1;32m----> 2\u001b[0m mse, mae, r2 \u001b[39m=\u001b[39m model\u001b[39m.\u001b[39mevaluate(X_test, Y_test)\n\u001b[0;32m      4\u001b[0m \u001b[39mprint\u001b[39m(\u001b[39m\"\u001b[39m\u001b[39mMean Squared Error:\u001b[39m\u001b[39m\"\u001b[39m, mse)\n\u001b[0;32m      5\u001b[0m \u001b[39mprint\u001b[39m(\u001b[39m\"\u001b[39m\u001b[39mMean Absolute Error:\u001b[39m\u001b[39m\"\u001b[39m, mae)\n",
            "\u001b[1;31mValueError\u001b[0m: not enough values to unpack (expected 3, got 2)"
          ]
        }
      ],
      "source": [
        "# Evaluate the model on the testing set\n",
        "mse, mae, r2 = model.evaluate(X_test, Y_test)\n",
        "\n",
        "print(\"Mean Squared Error:\", mse)\n",
        "print(\"Mean Absolute Error:\", mae)\n",
        "print(\"r2: \", r2)"
      ]
    },
    {
      "cell_type": "code",
      "execution_count": null,
      "metadata": {},
      "outputs": [],
      "source": [
        "# Calculate the percentage of loss for mean squared error\n",
        "loss_percent_mse = mse / (Y_test.max() - Y_test.min()) * 100\n",
        "print(\"Mean Squared Error:\", mse)\n",
        "\n",
        "print(\"Percentage of loss for Mean Squared Error:\", loss_percent_mse)\n",
        "\n",
        "# Calculate the percentage of loss for mean absolute error\n",
        "loss_percent_mae = mae / (Y_test.max() - Y_test.min()) * 100\n",
        "print(\"Mean Absolute Error:\", mae)\n",
        "print(\"Percentage of loss for Mean Absolute Error:\", loss_percent_mae)"
      ]
    },
    {
      "cell_type": "code",
      "execution_count": 21,
      "metadata": {},
      "outputs": [
        {
          "name": "stdout",
          "output_type": "stream",
          "text": [
            "1/1 [==============================] - 0s 352ms/step\n",
            "Predicted Elo ratings for White and Black: [1836.3676 1837.2216]\n"
          ]
        }
      ],
      "source": [
        "# Convert the game moves into one-hot encoded format\n",
        "board = chess.Board()\n",
        "moves = ['d4', 'd5', 'Bf4', 'f6', 'Nf3', 'Nc6', 'c4', 'e5', 'dxe5', 'fxe5', 'Bxe5', 'Nxe5', 'Nxe5', 'Nf6', 'cxd5', 'Bb4+', 'Nc3', 'Bxc3+', 'bxc3', 'O-O', 'e4', 'Nxe4', 'Bc4', 'Nxf2', 'd6+', 'Kh8', 'Ng6+', 'hxg6', 'Qc2', 'Nxh1', 'O-O-O','Nf2', 'dxc7', 'Qxc7', 'Qxg6', 'Qxc4', 'Qh5+', 'Kg8', 'Qd5+', 'Qxd5', 'Rxd5']\n",
        "\n",
        "one_hot = np.zeros((8, 8, 12), dtype=np.int8)\n",
        "pieces = ['p', 'r', 'n', 'b', 'q', 'k', 'P', 'R', 'N', 'B', 'Q', 'K']\n",
        "piece_to_int = dict(zip(pieces, range(12)))\n",
        "\n",
        "for move in moves:\n",
        "    board.push_san(move)\n",
        "    fen = board.fen()\n",
        "    rows = fen.split()[0].split('/')\n",
        "    for i, row in enumerate(rows):\n",
        "        j = 0\n",
        "        for char in row:\n",
        "            if char.isdigit():\n",
        "                j += int(char)\n",
        "            else:\n",
        "                one_hot[i, j, piece_to_int[char]] = 1\n",
        "                j += 1\n",
        "\n",
        "# Normalize the feature matrix\n",
        "one_hot = one_hot / 768\n",
        "\n",
        "# Use the trained model to predict the Elo ratings\n",
        "elo_pred = model.predict(np.array([one_hot]))\n",
        "print(\"Predicted Elo ratings for White and Black:\", elo_pred[0])\n"
      ]
    },
    {
      "cell_type": "code",
      "execution_count": 22,
      "metadata": {},
      "outputs": [
        {
          "name": "stdout",
          "output_type": "stream",
          "text": [
            "1/1 [==============================] - 0s 15ms/step\n",
            "Predicted Elo ratings for White and Black: [2512.0989 2513.0234]\n"
          ]
        }
      ],
      "source": [
        "pgn = open(\"game.pgn\")\n",
        "game = chess.pgn.read_game(pgn)\n",
        "board = game.board()\n",
        "\n",
        "one_hot = np.zeros((8, 8, 12), dtype=np.int8)\n",
        "pieces = ['p', 'r', 'n', 'b', 'q', 'k', 'P', 'R', 'N', 'B', 'Q', 'K']\n",
        "piece_to_int = dict(zip(pieces, range(12)))\n",
        "\n",
        "for move in game.mainline_moves():\n",
        "    board.push(move)\n",
        "    fen = board.fen()\n",
        "    rows = fen.split()[0].split('/')\n",
        "    for i, row in enumerate(rows):\n",
        "        j = 0\n",
        "        for char in row:\n",
        "            if char.isdigit():\n",
        "                j += int(char)\n",
        "            else:\n",
        "                one_hot[i, j, piece_to_int[char]] = 1\n",
        "                j += 1\n",
        "\n",
        "# Normalize the feature matrix\n",
        "one_hot = one_hot / 768\n",
        "\n",
        "# Use the trained model to predict the Elo ratings\n",
        "elo_pred = model.predict(np.array([one_hot]))\n",
        "print(\"Predicted Elo ratings for White and Black:\", elo_pred[0])\n"
      ]
    },
    {
      "cell_type": "code",
      "execution_count": 23,
      "metadata": {},
      "outputs": [
        {
          "name": "stdout",
          "output_type": "stream",
          "text": [
            "1/1 [==============================] - 0s 16ms/step\n",
            "Predicted Elo ratings for White and Black: [1880.0063 1880.865 ]\n"
          ]
        }
      ],
      "source": [
        "pgn = open(\"alex.pgn\")\n",
        "game = chess.pgn.read_game(pgn)\n",
        "board = game.board()\n",
        "\n",
        "one_hot = np.zeros((8, 8, 12), dtype=np.int8)\n",
        "pieces = ['p', 'r', 'n', 'b', 'q', 'k', 'P', 'R', 'N', 'B', 'Q', 'K']\n",
        "piece_to_int = dict(zip(pieces, range(12)))\n",
        "\n",
        "for move in game.mainline_moves():\n",
        "    board.push(move)\n",
        "    fen = board.fen()\n",
        "    rows = fen.split()[0].split('/')\n",
        "    for i, row in enumerate(rows):\n",
        "        j = 0\n",
        "        for char in row:\n",
        "            if char.isdigit():\n",
        "                j += int(char)\n",
        "            else:\n",
        "                one_hot[i, j, piece_to_int[char]] = 1\n",
        "                j += 1\n",
        "\n",
        "# Normalize the feature matrix\n",
        "one_hot = one_hot / 768\n",
        "\n",
        "# Use the trained model to predict the Elo ratings\n",
        "elo_pred = model.predict(np.array([one_hot]))\n",
        "print(\"Predicted Elo ratings for White and Black:\", elo_pred[0])\n"
      ]
    },
    {
      "cell_type": "code",
      "execution_count": 24,
      "metadata": {},
      "outputs": [
        {
          "name": "stdout",
          "output_type": "stream",
          "text": [
            "1/1 [==============================] - 0s 19ms/step\n",
            "Predicted Elo ratings for White and Black: [1823.8595 1824.7125]\n"
          ]
        }
      ],
      "source": [
        "pgn = open(\"test.pgn\")\n",
        "game = chess.pgn.read_game(pgn)\n",
        "board = game.board()\n",
        "\n",
        "one_hot = np.zeros((8, 8, 12), dtype=np.int8)\n",
        "pieces = ['p', 'r', 'n', 'b', 'q', 'k', 'P', 'R', 'N', 'B', 'Q', 'K']\n",
        "piece_to_int = dict(zip(pieces, range(12)))\n",
        "\n",
        "for move in game.mainline_moves():\n",
        "    board.push(move)\n",
        "    fen = board.fen()\n",
        "    rows = fen.split()[0].split('/')\n",
        "    for i, row in enumerate(rows):\n",
        "        j = 0\n",
        "        for char in row:\n",
        "            if char.isdigit():\n",
        "                j += int(char)\n",
        "            else:\n",
        "                one_hot[i, j, piece_to_int[char]] = 1\n",
        "                j += 1\n",
        "\n",
        "# Normalize the feature matrix\n",
        "one_hot = one_hot / 768\n",
        "\n",
        "# Use the trained model to predict the Elo ratings\n",
        "elo_pred = model.predict(np.array([one_hot]))\n",
        "print(\"Predicted Elo ratings for White and Black:\", elo_pred[0])"
      ]
    }
  ],
  "metadata": {
    "accelerator": "GPU",
    "colab": {
      "provenance": []
    },
    "gpuClass": "standard",
    "kernelspec": {
      "display_name": "Python 3",
      "name": "python3"
    },
    "language_info": {
      "codemirror_mode": {
        "name": "ipython",
        "version": 3
      },
      "file_extension": ".py",
      "mimetype": "text/x-python",
      "name": "python",
      "nbconvert_exporter": "python",
      "pygments_lexer": "ipython3",
      "version": "3.10.9"
    }
  },
  "nbformat": 4,
  "nbformat_minor": 0
}
