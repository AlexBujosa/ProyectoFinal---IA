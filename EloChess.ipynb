{
  "nbformat": 4,
  "nbformat_minor": 0,
  "metadata": {
    "colab": {
      "provenance": []
    },
    "kernelspec": {
      "name": "python3",
      "display_name": "Python 3"
    },
    "language_info": {
      "name": "python"
    },
    "accelerator": "GPU",
    "gpuClass": "standard"
  },
  "cells": [
    {
      "cell_type": "code",
      "execution_count": 3,
      "metadata": {
        "colab": {
          "base_uri": "https://localhost:8080/"
        },
        "id": "kMzrdpV5zoh-",
        "outputId": "c97c495f-bfcc-43df-da7a-d84fbae1f85f"
      },
      "outputs": [
        {
          "output_type": "stream",
          "name": "stdout",
          "text": [
            "Looking in indexes: https://pypi.org/simple, https://us-python.pkg.dev/colab-wheels/public/simple/\n",
            "Requirement already satisfied: python-chess in /usr/local/lib/python3.9/dist-packages (1.999)\n",
            "Requirement already satisfied: chess<2,>=1 in /usr/local/lib/python3.9/dist-packages (from python-chess) (1.9.4)\n"
          ]
        }
      ],
      "source": [
        "!pip install python-chess\n",
        "\n",
        "import tensorflow as tf\n",
        "import pandas as pd\n",
        "import chess.pgn\n",
        "import numpy as np\n",
        "from tqdm import tqdm"
      ]
    },
    {
      "cell_type": "code",
      "source": [
        "# Load the PGN file\n",
        "pgn = open('data.pgn')"
      ],
      "metadata": {
        "id": "0kMgL1FMz1Wp"
      },
      "execution_count": 4,
      "outputs": []
    },
    {
      "cell_type": "code",
      "source": [
        "# Read the PGN file and extract the ELO ratings and moves for each game\n",
        "games = []\n",
        "num_games = sum(1 for _ in open(\"data.pgn\"))"
      ],
      "metadata": {
        "id": "krKYct-E1tkf"
      },
      "execution_count": 5,
      "outputs": []
    },
    {
      "cell_type": "code",
      "source": [
        "for i in tqdm(range(num_games)):\n",
        "    game = chess.pgn.read_game(pgn)\n",
        "    if game is None:\n",
        "        break\n",
        "    games.append(game)"
      ],
      "metadata": {
        "colab": {
          "base_uri": "https://localhost:8080/"
        },
        "id": "7_pvE3WJ3m8_",
        "outputId": "571b4b39-2928-4ff1-adab-9f09166de6df"
      },
      "execution_count": null,
      "outputs": [
        {
          "output_type": "stream",
          "name": "stderr",
          "text": [
            "  1%|          | 6947/859598 [00:32<38:29, 369.25it/s]"
          ]
        }
      ]
    },
    {
      "cell_type": "code",
      "source": [
        "# Extract the features and labels\n",
        "X = []\n",
        "Y = []"
      ],
      "metadata": {
        "id": "Clv-dhHn3uIF"
      },
      "execution_count": null,
      "outputs": []
    },
    {
      "cell_type": "code",
      "source": [
        "for game in tqdm(games):\n",
        "    board = game.board()\n",
        "    \n",
        "    if \"WhiteElo\" in game.headers:\n",
        "        elo_white = int(game.headers[\"WhiteElo\"])\n",
        "    else:\n",
        "        elo_white = 0\n",
        "    if \"BlackElo\" in game.headers:\n",
        "        elo_black = int(game.headers[\"BlackElo\"])\n",
        "    else:\n",
        "        elo_black = 0\n",
        "\n",
        "\n",
        "    for move in game.mainline_moves():\n",
        "        # Convert the board representation to a one-hot encoded format\n",
        "        fen = board.fen()\n",
        "        pieces = ['p', 'r', 'n', 'b', 'q', 'k', 'P', 'R', 'N', 'B', 'Q', 'K']\n",
        "        piece_to_int = dict(zip(pieces, range(12)))\n",
        "        one_hot = np.zeros((8, 8, 12), dtype=np.int8)\n",
        "        rows = fen.split()[0].split('/')\n",
        "        for i, row in enumerate(rows):\n",
        "            j = 0\n",
        "            for char in row:\n",
        "                if char.isdigit():\n",
        "                    j += int(char)\n",
        "                else:\n",
        "                    one_hot[i, j, piece_to_int[char]] = 1\n",
        "                    j += 1\n",
        "        X.append(one_hot)\n",
        "        Y.append([elo_white, elo_black])\n",
        "        board.push(move)"
      ],
      "metadata": {
        "id": "xl8HWYAW3vUG"
      },
      "execution_count": null,
      "outputs": []
    },
    {
      "cell_type": "code",
      "source": [
        "# Convert the features and labels to numpy arrays\n",
        "X = np.array(X)\n",
        "Y = np.array(Y)"
      ],
      "metadata": {
        "id": "vPgDpOFq3wnc"
      },
      "execution_count": null,
      "outputs": []
    },
    {
      "cell_type": "code",
      "source": [
        "# Split the dataset into training and testing sets\n",
        "split = int(len(X) * 0.8)\n",
        "X_train = X[:split]\n",
        "Y_train = Y[:split]\n",
        "X_test = X[split:]\n",
        "Y_test = Y[split:]\n"
      ],
      "metadata": {
        "id": "mUTTuoGE3xfc"
      },
      "execution_count": null,
      "outputs": []
    },
    {
      "cell_type": "code",
      "source": [
        "# Normalize the feature matrix\n",
        "X_train = X_train / 768\n",
        "X_test = X_test / 768\n"
      ],
      "metadata": {
        "id": "1JBUjU4Y3yjH"
      },
      "execution_count": null,
      "outputs": []
    },
    {
      "cell_type": "code",
      "source": [
        "# Define the TensorFlow model\n",
        "model = tf.keras.models.Sequential([\n",
        "    tf.keras.layers.Flatten(input_shape=(8, 8, 12)),\n",
        "    tf.keras.layers.Dense(128, activation=\"relu\"),\n",
        "    tf.keras.layers.Dense(64, activation=\"relu\"),\n",
        "    tf.keras.layers.Dense(2)\n",
        "])"
      ],
      "metadata": {
        "id": "AqTlc81Cz57I"
      },
      "execution_count": null,
      "outputs": []
    },
    {
      "cell_type": "code",
      "source": [
        "# Compile the model\n",
        "model.compile(optimizer=\"adam\", loss=\"mse\", metrics=[\"mae\"])"
      ],
      "metadata": {
        "id": "VZZV__6_z67U"
      },
      "execution_count": null,
      "outputs": []
    },
    {
      "cell_type": "code",
      "source": [
        "# Train the model on the training set\n",
        "model.fit(X_train, Y_train, epochs=10, validation_split=0.2)"
      ],
      "metadata": {
        "id": "KQveqfRpz8qk"
      },
      "execution_count": null,
      "outputs": []
    },
    {
      "cell_type": "code",
      "source": [
        "# Evaluate the model on the testing set\n",
        "mse, mae = model.evaluate(X_test, Y_test)\n",
        "\n",
        "print(\"Mean Squared Error:\", mse)\n",
        "print(\"Mean Absolute Error:\", mae)"
      ],
      "metadata": {
        "id": "J8IqdyDRz9uy"
      },
      "execution_count": null,
      "outputs": []
    }
  ]
}