{
 "cells": [
  {
   "cell_type": "code",
   "execution_count": 7,
   "metadata": {
    "colab": {
     "base_uri": "https://localhost:8080/"
    },
    "id": "kMzrdpV5zoh-",
    "outputId": "8efd5c44-e995-41c0-e4a1-2f2bf0d4c42c"
   },
   "outputs": [],
   "source": [
    "!pip install python-chess\n",
    "\n",
    "import tensorflow as tf\n",
    "import pandas as pd\n",
    "import chess.pgn\n",
    "import numpy as np\n",
    "from tqdm import tqdm"
   ]
  },
  {
   "cell_type": "code",
   "execution_count": 8,
   "metadata": {
    "id": "0kMgL1FMz1Wp"
   },
   "outputs": [],
   "source": [
    "# Load the PGN file\n",
    "pgn = open('data.pgn')"
   ]
  },
  {
   "cell_type": "code",
   "execution_count": 9,
   "metadata": {
    "id": "krKYct-E1tkf"
   },
   "outputs": [],
   "source": [
    "# Read the PGN file and extract the ELO ratings and moves for each game\n",
    "games = []\n",
    "num_games = sum(1 for _ in open(\"data.pgn\"))"
   ]
  },
  {
   "cell_type": "code",
   "execution_count": 10,
   "metadata": {
    "colab": {
     "base_uri": "https://localhost:8080/"
    },
    "id": "7_pvE3WJ3m8_",
    "outputId": "871afedb-1026-4e5d-ef2b-6a30b4298c93"
   },
   "outputs": [],
   "source": [
    "for i in tqdm(range(num_games)):\n",
    "    game = chess.pgn.read_game(pgn)\n",
    "    if game is None:\n",
    "        break\n",
    "    games.append(game)"
   ]
  },
  {
   "cell_type": "code",
   "execution_count": 11,
   "metadata": {
    "id": "Clv-dhHn3uIF"
   },
   "outputs": [],
   "source": [
    "# Extract the features and labels\n",
    "X = []\n",
    "Y = []"
   ]
  },
  {
   "cell_type": "code",
   "execution_count": 12,
   "metadata": {
    "id": "xl8HWYAW3vUG"
   },
   "outputs": [],
   "source": [
    "for game in tqdm(games):\n",
    "    board = game.board()\n",
    "    \n",
    "    if \"WhiteElo\" in game.headers:\n",
    "        elo_white = int(game.headers[\"WhiteElo\"])\n",
    "    else:\n",
    "        elo_white = 0\n",
    "    if \"BlackElo\" in game.headers:\n",
    "        elo_black = int(game.headers[\"BlackElo\"])\n",
    "    else:\n",
    "        elo_black = 0\n",
    "\n",
    "\n",
    "    for move in game.mainline_moves():\n",
    "        # Convert the board representation to a one-hot encoded format\n",
    "        fen = board.fen()\n",
    "        pieces = ['p', 'r', 'n', 'b', 'q', 'k', 'P', 'R', 'N', 'B', 'Q', 'K']\n",
    "        piece_to_int = dict(zip(pieces, range(12)))\n",
    "        one_hot = np.zeros((8, 8, 12), dtype=np.int8)\n",
    "        rows = fen.split()[0].split('/')\n",
    "        for i, row in enumerate(rows):\n",
    "            j = 0\n",
    "            for char in row:\n",
    "                if char.isdigit():\n",
    "                    j += int(char)\n",
    "                else:\n",
    "                    one_hot[i, j, piece_to_int[char]] = 1\n",
    "                    j += 1\n",
    "        X.append(one_hot)\n",
    "        Y.append([elo_white, elo_black])\n",
    "        board.push(move)"
   ]
  },
  {
   "cell_type": "code",
   "execution_count": 13,
   "metadata": {
    "id": "vPgDpOFq3wnc"
   },
   "outputs": [],
   "source": [
    "# Convert the features and labels to numpy arrays\n",
    "X = np.array(X)\n",
    "Y = np.array(Y)"
   ]
  },
  {
   "cell_type": "code",
   "execution_count": null,
   "metadata": {
    "id": "mUTTuoGE3xfc"
   },
   "outputs": [],
   "source": [
    "# Split the dataset into training and testing sets\n",
    "split = int(len(X) * 0.8)\n",
    "X_train = X[:split]\n",
    "Y_train = Y[:split]\n",
    "X_test = X[split:]\n",
    "Y_test = Y[split:]\n"
   ]
  },
  {
   "cell_type": "code",
   "execution_count": null,
   "metadata": {
    "id": "1JBUjU4Y3yjH"
   },
   "outputs": [],
   "source": [
    "# Normalize the feature matrix\n",
    "X_train = X_train / 768\n",
    "X_test = X_test / 768\n"
   ]
  },
  {
   "cell_type": "code",
   "execution_count": null,
   "metadata": {
    "id": "AqTlc81Cz57I"
   },
   "outputs": [],
   "source": [
    "# Define the TensorFlow model\n",
    "model = tf.keras.models.Sequential([\n",
    "    tf.keras.layers.Flatten(input_shape=(8, 8, 12)),\n",
    "    tf.keras.layers.Dense(128, activation=\"relu\"),\n",
    "    tf.keras.layers.Dense(64, activation=\"relu\"),\n",
    "    tf.keras.layers.Dense(2)\n",
    "])"
   ]
  },
  {
   "cell_type": "code",
   "execution_count": null,
   "metadata": {
    "id": "VZZV__6_z67U"
   },
   "outputs": [],
   "source": [
    "# Compile the model\n",
    "model.compile(optimizer=\"adam\", loss=\"mse\", metrics=[\"mae\"])"
   ]
  },
  {
   "cell_type": "code",
   "execution_count": null,
   "metadata": {
    "id": "KQveqfRpz8qk"
   },
   "outputs": [],
   "source": [
    "# Train the model on the training set\n",
    "model.fit(X_train, Y_train, epochs=10, validation_split=0.2)"
   ]
  },
  {
   "cell_type": "code",
   "execution_count": null,
   "metadata": {
    "id": "J8IqdyDRz9uy"
   },
   "outputs": [],
   "source": [
    "# Evaluate the model on the testing set\n",
    "mse, mae = model.evaluate(X_test, Y_test)\n",
    "\n",
    "print(\"Mean Squared Error:\", mse)\n",
    "print(\"Mean Absolute Error:\", mae)"
   ]
  },
  {
   "cell_type": "code",
   "execution_count": null,
   "metadata": {},
   "outputs": [],
   "source": []
  }
 ],
 "metadata": {
  "accelerator": "GPU",
  "colab": {
   "provenance": []
  },
  "gpuClass": "standard",
  "kernelspec": {
   "display_name": "Python 3 (ipykernel)",
   "language": "python",
   "name": "python3"
  },
  "language_info": {
   "codemirror_mode": {
    "name": "ipython",
    "version": 3
   },
   "file_extension": ".py",
   "mimetype": "text/x-python",
   "name": "python",
   "nbconvert_exporter": "python",
   "pygments_lexer": "ipython3",
   "version": "3.10.10"
  }
 },
 "nbformat": 4,
 "nbformat_minor": 1
}
